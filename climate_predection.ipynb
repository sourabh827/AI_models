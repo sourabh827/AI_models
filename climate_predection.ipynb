{
 "cells": [
  {
   "cell_type": "code",
   "execution_count": null,
   "id": "96510abc-495e-465d-90d8-c7005c59f8cf",
   "metadata": {},
   "outputs": [],
   "source": [
    "import pandas as pd\n",
    "import numpy as np\n",
    "import matplotlib.pyplot as plt\n",
    "from sklearn.model_selection import train_test_split\n",
    "from sklearn.preprocessing import StandardScaler\n",
    "from sklearn.metrics import mean_squared_error, r2_score\n",
    "from sklearn.linear_model import LinearRegression, Lasso, Ridge, ElasticNet, SGDRegressor\n",
    "\n",
    "# ----------------- Load and Prepare Data ---------------------\n",
    "data = pd.read_csv('climate_prediction.csv')\n",
    "data = data.drop(columns='Unnamed: 0')\n",
    "x = data[['Humidity (%)', 'Wind Speed (km/h)', 'Pressure (hPa)', 'Cloud Cover (%)']]\n",
    "y = data['Temperature (°C)']\n",
    "\n",
    "# ----------------- Split Data ---------------------\n",
    "from sklearn.model_selection import train_test_split\n",
    "x_train, x_test, y_train, y_test = train_test_split(x, y, test_size=0.20, random_state=42)\n",
    "\n",
    "# ----------------- Standardize Features ---------------------\n",
    "from sklearn.preprocessing import StandardScaler\n",
    "scaler = StandardScaler()\n",
    "x_train = scaler.fit_transform(x_train)\n",
    "x_test = scaler.transform(x_test)\n",
    "\n",
    "# ----------------- Initialize Models ---------------------\n",
    "model_1 = LinearRegression()\n",
    "model_2 = Lasso()\n",
    "model_3 = Ridge()\n",
    "model_4 = ElasticNet()\n",
    "model_5 = SGDRegressor()\n",
    "\n",
    "# ----------------- Train Models ---------------------\n",
    "model_1.fit(x_train, y_train)\n",
    "model_2.fit(x_train, y_train)\n",
    "model_3.fit(x_train, y_train)\n",
    "model_4.fit(x_train, y_train)\n",
    "model_5.fit(x_train, y_train)\n",
    "\n",
    "# ----------------- Predict and Evaluate ---------------------\n",
    "mp1 = model_1.predict(x_train)\n",
    "mp2 = model_2.predict(x_train)\n",
    "mp3 = model_3.predict(x_train)\n",
    "mp4 = model_4.predict(x_train)\n",
    "mp5 = model_5.predict(x_train)\n",
    "\n",
    "# Compute MSE and R2 Score for each model\n",
    "mse1, r1 = mean_squared_error(y_train, mp1), r2_score(y_train, mp1) * 100\n",
    "mse2, r2 = mean_squared_error(y_train, mp2), r2_score(y_train, mp2) * 100\n",
    "mse3, r3 = mean_squared_error(y_train, mp3), r2_score(y_train, mp3) * 100\n",
    "mse4, r4 = mean_squared_error(y_train, mp4), r2_score(y_train, mp4) * 100\n",
    "mse5, r5 = mean_squared_error(y_train, mp5), r2_score(y_train, mp5) * 100\n",
    "\n",
    "# Display accuracy and error of each model\n",
    "print(f\"Model 1 (Linear Regression) - Error: {mse1:.2f}, Accuracy: {r1:.2f}%\")\n",
    "print(f\"Model 2 (Lasso) - Error: {mse2:.2f}, Accuracy: {r2:.2f}%\")\n",
    "print(f\"Model 3 (Ridge) - Error: {mse3:.2f}, Accuracy: {r3:.2f}%\")\n",
    "print(f\"Model 4 (ElasticNet) - Error: {mse4:.2f}, Accuracy: {r4:.2f}%\")\n",
    "print(f\"Model 5 (SGD Regressor) - Error: {mse5:.2f}, Accuracy: {r5:.2f}%\")\n",
    "\n",
    "# ----------------- Predict Temperature Based on User Input ---------------------\n",
    "print(\"\\nPlease enter the following details to predict the Temperature:\")\n",
    "\n",
    "humidity = float(input(\"Enter Humidity (%): \"))\n",
    "wind_speed = float(input(\"Enter Wind Speed (km/h): \"))\n",
    "pressure = float(input(\"Enter Pressure (hPa): \"))\n",
    "cloud_cover = float(input(\"Enter Cloud Cover (%): \"))\n",
    "\n",
    "# Prepare user input and standardize\n",
    "user_input = pd.DataFrame([[humidity, wind_speed, pressure, cloud_cover]], columns=x.columns)\n",
    "user_input_scaled = scaler.transform(user_input)\n",
    "\n",
    "# Predict temperature (using model_1 as an example)\n",
    "predicted_temp = model_1.predict(user_input_scaled)\n",
    "\n",
    "print(f\"\\nPredicted Temperature: {predicted_temp[0]:.2f}°C\")\n"
   ]
  },
  {
   "cell_type": "code",
   "execution_count": null,
   "id": "3e26cdcf-e250-4035-bd15-6274963aed3c",
   "metadata": {},
   "outputs": [],
   "source": []
  },
  {
   "cell_type": "code",
   "execution_count": null,
   "id": "4bbf2d9e-2d8d-452a-ba12-4c4aa462d493",
   "metadata": {},
   "outputs": [],
   "source": []
  },
  {
   "cell_type": "code",
   "execution_count": null,
   "id": "e44562b3-0d5c-4feb-8040-6e7b5259847e",
   "metadata": {},
   "outputs": [],
   "source": []
  },
  {
   "cell_type": "code",
   "execution_count": null,
   "id": "aa897b6c-fcdc-4ef5-8e26-5c9cbf46838d",
   "metadata": {},
   "outputs": [],
   "source": []
  },
  {
   "cell_type": "code",
   "execution_count": null,
   "id": "ccaaf5e9-9be4-413d-af83-e13f5014f795",
   "metadata": {},
   "outputs": [],
   "source": []
  },
  {
   "cell_type": "code",
   "execution_count": null,
   "id": "b625aeed-4f7b-456c-b31f-e4f56ca20839",
   "metadata": {},
   "outputs": [],
   "source": []
  },
  {
   "cell_type": "code",
   "execution_count": null,
   "id": "419ccac5-1f4c-46ac-b401-eea759d4011b",
   "metadata": {},
   "outputs": [],
   "source": []
  },
  {
   "cell_type": "code",
   "execution_count": null,
   "id": "ba52aaf1-ff78-4235-8cdc-f791fc358d38",
   "metadata": {},
   "outputs": [],
   "source": []
  },
  {
   "cell_type": "code",
   "execution_count": null,
   "id": "e0b57257-35b9-4572-bad8-bf83ec191d95",
   "metadata": {},
   "outputs": [],
   "source": []
  },
  {
   "cell_type": "code",
   "execution_count": null,
   "id": "aaa9d41c-1397-47ba-9bf4-a1cb3f0e1c74",
   "metadata": {},
   "outputs": [],
   "source": []
  },
  {
   "cell_type": "code",
   "execution_count": null,
   "id": "4f5d3787-2c3c-491e-8ba1-689e22989616",
   "metadata": {},
   "outputs": [],
   "source": []
  },
  {
   "cell_type": "code",
   "execution_count": null,
   "id": "9f7c5ff1-c3cd-438a-9f9c-90ecc206449e",
   "metadata": {},
   "outputs": [],
   "source": []
  },
  {
   "cell_type": "code",
   "execution_count": null,
   "id": "996c8c22-e7e4-4ef3-8c6a-430ce89a7e9c",
   "metadata": {},
   "outputs": [],
   "source": [
    "data"
   ]
  },
  {
   "cell_type": "code",
   "execution_count": null,
   "id": "80829bb2-0080-4cab-b968-3337b3d1c799",
   "metadata": {},
   "outputs": [],
   "source": []
  },
  {
   "cell_type": "code",
   "execution_count": null,
   "id": "ea238b3e-b642-4824-be61-cc34a7817865",
   "metadata": {},
   "outputs": [],
   "source": []
  },
  {
   "cell_type": "code",
   "execution_count": null,
   "id": "750aaab1-4439-403b-ac9c-cdcf130f770e",
   "metadata": {},
   "outputs": [],
   "source": []
  },
  {
   "cell_type": "code",
   "execution_count": null,
   "id": "8121a4aa-9bb6-4f64-bf71-e9f6f559841b",
   "metadata": {},
   "outputs": [],
   "source": []
  },
  {
   "cell_type": "code",
   "execution_count": null,
   "id": "e1cdfd28-203b-43b4-a27a-df8086c63a96",
   "metadata": {},
   "outputs": [],
   "source": []
  },
  {
   "cell_type": "code",
   "execution_count": null,
   "id": "38ef90fd-6ebc-4efa-830c-0e6992bf4ab1",
   "metadata": {},
   "outputs": [],
   "source": []
  },
  {
   "cell_type": "code",
   "execution_count": null,
   "id": "8dc6adcd-5f3a-4c85-a541-01be72ae9ea7",
   "metadata": {},
   "outputs": [],
   "source": []
  },
  {
   "cell_type": "code",
   "execution_count": null,
   "id": "d55d12d5-4ab1-4cc6-9a11-58a88b464493",
   "metadata": {},
   "outputs": [],
   "source": []
  },
  {
   "cell_type": "code",
   "execution_count": null,
   "id": "6da21378-a515-4321-89ea-bd98f8fbbb12",
   "metadata": {},
   "outputs": [],
   "source": []
  },
  {
   "cell_type": "code",
   "execution_count": null,
   "id": "5baeac1a-5dc8-43fa-acf5-806f24c993cf",
   "metadata": {},
   "outputs": [],
   "source": []
  }
 ],
 "metadata": {
  "kernelspec": {
   "display_name": "Python 3 (ipykernel)",
   "language": "python",
   "name": "python3"
  },
  "language_info": {
   "codemirror_mode": {
    "name": "ipython",
    "version": 3
   },
   "file_extension": ".py",
   "mimetype": "text/x-python",
   "name": "python",
   "nbconvert_exporter": "python",
   "pygments_lexer": "ipython3",
   "version": "3.11.7"
  }
 },
 "nbformat": 4,
 "nbformat_minor": 5
}
